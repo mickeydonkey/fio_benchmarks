{
 "cells": [
  {
   "cell_type": "code",
   "execution_count": 5,
   "metadata": {},
   "outputs": [],
   "source": [
    "import os \n",
    "import json\n",
    "import sys\n",
    "from collections import namedtuple\n",
    "import pandas as pd\n",
    "\n",
    "Benchmark = namedtuple('Benchmark', 'isPolling iodepth numjobs GenIOPS ActualIOPS P99_lat')\n",
    "NumJobs = [1]\n",
    "IODepth = [1, 2, 4, 8, 16]\n",
    "IOPS = [100000, 200000, 300000, 400000, 500000, 600000, 700000]\n",
    "\n",
    "entries = os.listdir(\"./\")\n",
    "json_files = [f for f in entries if f.endswith(\"json\")]\n",
    "benchmark_record = []\n",
    "\n",
    "for file in json_files:\n",
    "    with open(file) as fd:\n",
    "        try:\n",
    "            dd = json.load(fd)\n",
    "        except:\n",
    "            sys.stderr.write(\"error loading json %s\" % file, file=sys.stdout)\n",
    "            exit(1)\n",
    "    sss = file.split(\"-\")\n",
    "    b1 = Benchmark(int(dd[\"jobs\"][0][\"job options\"][\"sqthread_poll\"]), \\\n",
    "        int(dd[\"jobs\"][0][\"job options\"][\"iodepth\"]), \\\n",
    "        int(dd[\"jobs\"][0][\"job options\"][\"numjobs\"]), \\\n",
    "        int(dd[\"jobs\"][0][\"job options\"][\"rate_iops\"]), \\\n",
    "        float(dd[\"jobs\"][0][\"read\"][\"iops_mean\"]), \\\n",
    "        float(dd[\"jobs\"][0][\"read\"][\"clat_ns\"][\"percentile\"][\"99.000000\"])\n",
    "        )\n",
    "    benchmark_record.append(b1)\n",
    "\n",
    "df = pd.DataFrame(benchmark_record)"
   ]
  },
  {
   "cell_type": "code",
   "execution_count": 9,
   "metadata": {},
   "outputs": [],
   "source": [
    "import matplotlib.pyplot as plt\n",
    "\n",
    "for iod in IODepth:\n",
    "    blocking=df[(df[\"isPolling\"]==0)&(df[\"iodepth\"]==iod)]\n",
    "    blocking=blocking.sort_values(by=\"ActualIOPS\")\n",
    "\n",
    "    polling=df[(df[\"isPolling\"]==1)&(df[\"iodepth\"]==iod)]\n",
    "    polling=polling.sort_values(by=\"ActualIOPS\")\n",
    "    \n",
    "    #ax = polling.plot.line(x=\"ActualIOPS\",y=\"P99_lat\",label=\"P99_lat-polling\")\n",
    "    #blocking.plot.line(x=\"ActualIOPS\",y=\"P99_lat\",ax=ax, label=\"P99_lat-blocking\")\n",
    "    #ax.set_title(label=\"IODepth=%d\" % (iod))"
   ]
  },
  {
   "cell_type": "code",
   "execution_count": null,
   "metadata": {},
   "outputs": [],
   "source": []
  }
 ],
 "metadata": {
  "kernelspec": {
   "display_name": "Python 3",
   "language": "python",
   "name": "python3"
  },
  "language_info": {
   "codemirror_mode": {
    "name": "ipython",
    "version": 3
   },
   "file_extension": ".py",
   "mimetype": "text/x-python",
   "name": "python",
   "nbconvert_exporter": "python",
   "pygments_lexer": "ipython3",
   "version": "3.7.5-final"
  }
 },
 "nbformat": 4,
 "nbformat_minor": 2
}